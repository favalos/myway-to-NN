{
 "cells": [
  {
   "cell_type": "code",
   "execution_count": 45,
   "metadata": {},
   "outputs": [],
   "source": [
    "import numpy as np;\n",
    "import matplotlib.pyplot as plt;"
   ]
  },
  {
   "cell_type": "code",
   "execution_count": 2,
   "metadata": {},
   "outputs": [],
   "source": [
    "class Functions(object):\n",
    "    \n",
    "    @staticmethod\n",
    "    def sigmoid(x):\n",
    "        return 1 / (1 + np.exp(-x))\n",
    "    \n",
    "    @staticmethod\n",
    "    def sigmoid_derivative(sx):\n",
    "        return sx * ( 1 - sx)"
   ]
  },
  {
   "cell_type": "code",
   "execution_count": 66,
   "metadata": {},
   "outputs": [],
   "source": [
    "class NeuralNetwork(object):\n",
    "    \n",
    "    def __init__(self, iterations):\n",
    "\n",
    "        self.iterations = iterations\n",
    "        np.random.seed(1)\n",
    "        \n",
    "    def __initialization(self,n, l, m):\n",
    "        \n",
    "        W = np.zeros([n, 1])\n",
    "        B = np.reshape(np.random.rand(m),[1, m])\n",
    "        self.model = { \"W\" : W, \"B\": B}\n",
    "        \n",
    "    def __calculateZ(self, X):\n",
    "        \n",
    "        W = self.model[\"W\"]\n",
    "        B = self.model[\"B\"]\n",
    "        return np.dot(W.T, X) + B\n",
    "    \n",
    "    def train(self, X, Y):\n",
    "        \n",
    "        xshape = np.shape(X)\n",
    "        \n",
    "        self.__initialization(xshape[0], 1, xshape[1])\n",
    "        \n",
    "        for i in range(self.iterations):\n",
    "        \n",
    "            #Feed forward\n",
    "            Z = self.__calculateZ(X)\n",
    "            A = Functions.sigmoid(Z)\n",
    "        \n",
    "            #Back propagation\n",
    "            DZ = Y - A\n",
    "            DL = DZ * Functions.sigmoid_derivative(A)\n",
    "            self.model[\"W\"] += np.dot(X, DL.T)\n",
    "            ##self.model[\"B\"] += DZ\n",
    "                    \n",
    "        print(A)\n",
    "        \n",
    "    def predict(self, model, X):\n",
    "        \n",
    "        Z = self.__calculateZ(X)\n",
    "        A = Functions.sigmoid(Z)\n",
    "        \n",
    "        return A\n",
    "        \n",
    "        \n",
    "        \n",
    "        \n",
    "        \n",
    "    \n",
    "        "
   ]
  },
  {
   "cell_type": "code",
   "execution_count": 67,
   "metadata": {},
   "outputs": [
    {
     "name": "stdout",
     "output_type": "stream",
     "text": [
      "[[ 0.00966805  0.00786709  0.99359214  0.99211411]]\n"
     ]
    }
   ],
   "source": [
    "X = np.array([[0,0,1],\n",
    "[0,1,1],\n",
    "[1,0,1],\n",
    "[1,1,1]]).T\n",
    "\n",
    "Y = np.array([[0,0,1,1]]) \n",
    "\n",
    "nn = NeuralNetwork(10000)\n",
    "nn.train(X, Y)\n"
   ]
  },
  {
   "cell_type": "code",
   "execution_count": 51,
   "metadata": {},
   "outputs": [
    {
     "data": {
      "text/plain": [
       "<matplotlib.collections.PathCollection at 0x7fecaa5188d0>"
      ]
     },
     "execution_count": 51,
     "metadata": {},
     "output_type": "execute_result"
    },
    {
     "data": {
      "image/png": "[encoded data removed]",
      "text/plain": [
       "<matplotlib.figure.Figure at 0x7fecaa625128>"
      ]
     },
     "metadata": {},
     "output_type": "display_data"
    }
   ],
   "source": [
    "plt.scatter(X.T[:,0], X.T[:,1], s=40, c=Y, cmap=plt.cm.Spectral)"
   ]
  }
 ],
 "metadata": {
  "kernelspec": {
   "display_name": "Python 3",
   "language": "python",
   "name": "python3"
  },
  "language_info": {
   "codemirror_mode": {
    "name": "ipython",
    "version": 3
   },
   "file_extension": ".py",
   "mimetype": "text/x-python",
   "name": "python",
   "nbconvert_exporter": "python",
   "pygments_lexer": "ipython3",
   "version": "3.6.3"
  }
 },
 "nbformat": 4,
 "nbformat_minor": 2
}
