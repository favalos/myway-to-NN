{
 "cells": [
  {
   "cell_type": "code",
   "execution_count": 1,
   "metadata": {
    "collapsed": false
   },
   "outputs": [
   ],
   "source": [
    "import numpy as np;"
   ]
  },
  {
   "cell_type": "code",
   "execution_count": 5,
   "metadata": {
    "collapsed": false
   },
   "outputs": [
   ],
   "source": [
    "def sigmoid(x):\n",
    "    return 1 / (1 + np.exp( - x))\n",
    "\n",
    "def sigmoid_derivative(x):\n",
    "    return x * (1 - x)\n",
    "\n",
    "def tanh_derivative(x):\n",
    "    return 1.0 - np.tanh(x)**2"
   ]
  },
  {
   "cell_type": "code",
   "execution_count": 6,
   "metadata": {
    "collapsed": false
   },
   "outputs": [
   ],
   "source": [
    "def initialization(layers):\n",
    "    \n",
    "    np.random.seed(1)\n",
    "    model = { \"layers\" : layers}\n",
    "    A0 = layers[0]\n",
    "    \n",
    "    for i in range(1, len(layers)):\n",
    "        \n",
    "        model[\"W\" + str(i)] = np.reshape(\n",
    "            np.random.rand(A0 * layers[i]),[A0, layers[i]])\n",
    "        A0 = layers[i]\n",
    "        \n",
    "    return model;"
   ]
  },
  {
   "cell_type": "code",
   "execution_count": 7,
   "metadata": {
    "collapsed": false
   },
   "outputs": [
   ],
   "source": [
    "def calculateA(model, layer, X, activation):\n",
    "    \n",
    "    W = model[\"W\" + str(layer)]\n",
    "    Z = np.dot(W.T, X)\n",
    "    A = activation(Z)\n",
    "    \n",
    "    return Z, A\n",
    "    "
   ]
  },
  {
   "cell_type": "code",
   "execution_count": 8,
   "metadata": {
    "collapsed": false
   },
   "outputs": [
   ],
   "source": [
    "def feed_forward(model, X):\n",
    "    \n",
    "    cache = {}\n",
    "    layers = model[\"layers\"]\n",
    "    A0 = X\n",
    "    \n",
    "    cache[\"A0\"] = X\n",
    "    \n",
    "    for i in range(1, len(layers) - 1):\n",
    "        Z, A = calculateA(model, i, A0, np.tanh)\n",
    "        cache[\"Z\" + str(i)] = Z\n",
    "        cache[\"A\" + str(i)] = A\n",
    "        A0 = A\n",
    "        \n",
    "    Z, A = calculateA(model, len(layers) - 1, A0, sigmoid)\n",
    "    cache[\"Z\" + str(len(layers) - 1)] = Z\n",
    "    cache[\"A\" + str(len(layers) - 1)] = A\n",
    "            \n",
    "    return (cache, A)"
   ]
  },
  {
   "cell_type": "code",
   "execution_count": 9,
   "metadata": {
    "collapsed": false
   },
   "outputs": [
   ],
   "source": [
    "def error_calculation(Y, Y_Hat):\n",
    "    \n",
    "    error = np.square(Y - Y_Hat) / 2\n",
    "    \n",
    "    return error\n",
    "    "
   ]
  },
  {
   "cell_type": "code",
   "execution_count": 10,
   "metadata": {
    "collapsed": false
   },
   "outputs": [
   ],
   "source": [
    "def back_propagation(cache, model, Y, Y_Hat):\n",
    "    \n",
    "    layers = model[\"layers\"]    \n",
    "    A = cache[\"A\" + str(len(layers) - 1)]\n",
    "    A0 = cache[\"A\" + str(len(layers) - 2)]\n",
    "\n",
    "    diff = Y - Y_Hat\n",
    "    DW = diff * sigmoid_derivative(A)\n",
    "    \n",
    "    model[\"W\" + str(len(layers) - 1)] = model[\"W\" + str(len(layers) - 1)] + np.dot(A0, DW.T)\n",
    "   \n",
    "    for i in reversed(range(1, len(layers) - 1)):\n",
    "        A = A0\n",
    "        A0 = cache[\"A\" + str(i - 1)]\n",
    "        W = model [\"W\" + str(i + 1)]\n",
    "        \n",
    "        diff = np.dot(DW.T, W.T)\n",
    "        DW = diff.T * tanh_derivative(A)\n",
    "        \n",
    "        model[\"W\" + str(i)] = model[\"W\" + str(i)] + np.dot(A0, DW.T)\n",
    "           "
   ]
  },
  {
   "cell_type": "code",
   "execution_count": 11,
   "metadata": {
    "collapsed": false
   },
   "outputs": [
   ],
   "source": [
    "def train( X, Y, iterations, layers):\n",
    "    \n",
    "    model = initialization(layers)\n",
    "    \n",
    "    for i in range(iterations):\n",
    "        \n",
    "        (cache, Y_Hat) = feed_forward(model, X)\n",
    "        back_propagation(cache, model, Y, Y_Hat)\n",
    "        \n",
    "    return model"
   ]
  },
  {
   "cell_type": "code",
   "execution_count": 12,
   "metadata": {
    "collapsed": false
   },
   "outputs": [
   ],
   "source": [
    "def predict(model, X):\n",
    "\n",
    "    layers = model[\"layers\"]\n",
    "    A0 = X\n",
    "        \n",
    "    for i in range(1, len(layers) - 1):\n",
    "        Z, A = calculateA(model, i, A0, np.tanh)\n",
    "        A0 = A\n",
    "        \n",
    "    Z, A = calculateA(model, len(layers) - 1, A0, sigmoid)\n",
    "            \n",
    "    return A"
   ]
  },
  {
   "cell_type": "code",
   "execution_count": 13,
   "metadata": {
    "collapsed": false,
    "scrolled": true
   },
   "outputs": [
    {
     "name": "stdout",
     "output_type": "stream",
     "text": [
      "{'layers': [3, 8, 4, 2], 'W3': array([[ 1.79702848,  1.56538047],\n",
      "       [ 3.2558461 ,  3.52002758],\n",
      "       [-1.7382175 , -1.53687959],\n",
      "       [ 2.57285583,  2.34835248]]), 'W1': array([[ 1.40900284,  1.52209003,  2.11733879,  1.81472933,  1.443803  ,\n",
      "         3.24181439, -1.62503504,  2.70295611],\n",
      "       [ 1.12100377,  1.55925997,  2.13804968,  1.84059552,  1.32642092,\n",
      "         4.302907  , -1.58100015,  3.02867173],\n",
      "       [-0.09791479, -0.70963843, -2.98309225, -0.89850153,  2.30910677,\n",
      "         4.1951714 ,  2.25505699,  3.49288261]]), 'W2': array([[ 1.34790943,  1.08499094,  0.80068821, -0.16312588],\n",
      "       [ 0.86119211,  2.01572508,  0.16384658,  1.55210045],\n",
      "       [ 0.16618333, -2.45847839,  3.46268412, -2.84714601],\n",
      "       [ 1.53277282,  2.40552584, -0.09477341,  2.30474707],\n",
      "       [ 0.40127886, -1.10540058,  1.96642397, -0.48348487],\n",
      "       [-0.5926612 , -1.57688671,  2.81547583, -0.92664273],\n",
      "       [ 0.59000208,  1.57569688, -1.48352304,  2.21382798],\n",
      "       [-0.44892136, -1.39304095,  2.15706723, -0.80559716]])}\n"
     ]
    }
   ],
   "source": [
    "X = np.array([[0, 0, 1, 1],\n",
    "             [0, 1, 0, 1],\n",
    "             [1, 1, 1, 1]])\n",
    "\n",
    "Y = np.array([[0, 1, 1 , 0]])\n",
    "\n",
    "model = train(X, Y, 6000, [ 3, 8, 4, 2])\n",
    "\n",
    "print(model)\n"
   ]
  },
  {
   "cell_type": "code",
   "execution_count": 14,
   "metadata": {
    "collapsed": false
   },
   "outputs": [
    {
     "name": "stdout",
     "output_type": "stream",
     "text": [
      "[[ 0.00225023]\n",
      " [ 0.00249918]]\n"
     ]
    }
   ],
   "source": [
    "T = np.array([[0],\n",
    "             [0],\n",
    "             [1]])\n",
    "\n",
    "print(predict(model, T))"
   ]
  },
  {
   "cell_type": "code",
   "execution_count": 15,
   "metadata": {
    "collapsed": false
   },
   "outputs": [
    {
     "name": "stdout",
     "output_type": "stream",
     "text": [
      "{'layers': [3, 8, 4, 2], 'W3': array([[ 1.79702848,  1.56538047],\n",
      "       [ 3.2558461 ,  3.52002758],\n",
      "       [-1.7382175 , -1.53687959],\n",
      "       [ 2.57285583,  2.34835248]]), 'W1': array([[ 1.40900284,  1.52209003,  2.11733879,  1.81472933,  1.443803  ,\n",
      "         3.24181439, -1.62503504,  2.70295611],\n",
      "       [ 1.12100377,  1.55925997,  2.13804968,  1.84059552,  1.32642092,\n",
      "         4.302907  , -1.58100015,  3.02867173],\n",
      "       [-0.09791479, -0.70963843, -2.98309225, -0.89850153,  2.30910677,\n",
      "         4.1951714 ,  2.25505699,  3.49288261]]), 'W2': array([[ 1.34790943,  1.08499094,  0.80068821, -0.16312588],\n",
      "       [ 0.86119211,  2.01572508,  0.16384658,  1.55210045],\n",
      "       [ 0.16618333, -2.45847839,  3.46268412, -2.84714601],\n",
      "       [ 1.53277282,  2.40552584, -0.09477341,  2.30474707],\n",
      "       [ 0.40127886, -1.10540058,  1.96642397, -0.48348487],\n",
      "       [-0.5926612 , -1.57688671,  2.81547583, -0.92664273],\n",
      "       [ 0.59000208,  1.57569688, -1.48352304,  2.21382798],\n",
      "       [-0.44892136, -1.39304095,  2.15706723, -0.80559716]])}\n"
     ]
    }
   ],
   "source": [
    "print(model)"
   ]
  }
 ],
 "metadata": {
  "kernelspec": {
   "display_name": "Python 3 (Anaconda)",
   "language": "python",
   "name": "anaconda3"
  },
  "language_info": {
   "codemirror_mode": {
    "name": "ipython",
    "version": 3
   },
   "file_extension": ".py",
   "mimetype": "text/x-python",
   "name": "python",
   "nbconvert_exporter": "python",
   "pygments_lexer": "ipython3",
   "version": "3.5.4"
  }
 },
 "nbformat": 4,
 "nbformat_minor": 0
}